{
  "nbformat": 4,
  "nbformat_minor": 0,
  "metadata": {
    "colab": {
      "provenance": []
    },
    "kernelspec": {
      "name": "python3",
      "display_name": "Python 3"
    },
    "language_info": {
      "name": "python"
    },
    "gpuClass": "standard"
  },
  "cells": [
    {
      "cell_type": "code",
      "execution_count": null,
      "metadata": {
        "id": "9wKZ8Lciv-ox"
      },
      "outputs": [],
      "source": [
        "# !pip install -U --no-cache-dir gdown --pre\n",
        "# !gdown --id 1-3c1uHL_uiqToeX4Pq90ijidBw1aDp9I\n"
      ]
    },
    {
      "cell_type": "code",
      "source": [
        "\n",
        "# !unzip dataset_mask.zip"
      ],
      "metadata": {
        "id": "br3aECYYxdke"
      },
      "execution_count": null,
      "outputs": []
    },
    {
      "cell_type": "code",
      "source": [
        "!git clone https://github.com/anminhhung/small_dog_cat_dataset.git"
      ],
      "metadata": {
        "colab": {
          "base_uri": "https://localhost:8080/"
        },
        "id": "bQHQBcJ8Gb5a",
        "outputId": "c66d09d6-4d0b-4d6e-b312-612adcfbdf43"
      },
      "execution_count": null,
      "outputs": [
        {
          "output_type": "stream",
          "name": "stdout",
          "text": [
            "Cloning into 'small_dog_cat_dataset'...\n",
            "remote: Enumerating objects: 2608, done.\u001b[K\n",
            "remote: Total 2608 (delta 0), reused 0 (delta 0), pack-reused 2608\u001b[K\n",
            "Receiving objects: 100% (2608/2608), 55.84 MiB | 31.76 MiB/s, done.\n",
            "Resolving deltas: 100% (1/1), done.\n"
          ]
        }
      ]
    },
    {
      "cell_type": "code",
      "source": [
        "import numpy as np \n",
        "import matplotlib.pyplot as plt \n",
        "import torch\n",
        "from torch.utils.data import DataLoader, Dataset\n",
        "from torchvision import datasets, transforms \n",
        "import torchvision \n",
        "import torch.nn as nn\n",
        "from sklearn.model_selection import train_test_split\n",
        "import cv2\n",
        "import os\n",
        "import pandas as pd\n",
        "from glob2 import glob"
      ],
      "metadata": {
        "id": "iGL4I0-6xfId"
      },
      "execution_count": null,
      "outputs": []
    },
    {
      "cell_type": "code",
      "source": [
        "device = torch.device('cuda' if torch.cuda.is_available() else 'cpu')\n",
        "device"
      ],
      "metadata": {
        "colab": {
          "base_uri": "https://localhost:8080/"
        },
        "id": "oph8OybOzRDD",
        "outputId": "afd116cc-c2ab-45a9-86b7-b019e2447898"
      },
      "execution_count": null,
      "outputs": [
        {
          "output_type": "execute_result",
          "data": {
            "text/plain": [
              "device(type='cuda')"
            ]
          },
          "metadata": {},
          "execution_count": 2
        }
      ]
    },
    {
      "cell_type": "markdown",
      "source": [
        "## DataLoader"
      ],
      "metadata": {
        "id": "YLn-p38dzUMO"
      }
    },
    {
      "cell_type": "code",
      "source": [
        "label_dict = {\n",
        "    'cat': 0,\n",
        "    'dog': 1\n",
        "}\n",
        "class MaskDataset(Dataset):\n",
        "  def __init__(self, df, transform=None):\n",
        "    self.transform = transform\n",
        "    self.df = df\n",
        "\n",
        "  def __len__(self):\n",
        "    return self.df.shape[0]\n",
        "\n",
        "  def __getitem__(self, idx):\n",
        "    row = self.df.iloc[idx]\n",
        "    img_path = row['img_path']\n",
        "    img = cv2.imread(img_path)\n",
        "    label = label_dict[img_path.split(\"/\")[-1].split(\".\")[0]]\n",
        "    if self.transform is not None:\n",
        "      img = self.transform(img)\n",
        "    return img_path,img, label\n"
      ],
      "metadata": {
        "id": "OdrL7oppzS_y"
      },
      "execution_count": null,
      "outputs": []
    },
    {
      "cell_type": "code",
      "source": [
        "class convertToTensor:\n",
        "  def __init__(self):\n",
        "    pass\n",
        "\n",
        "  def __call__(self, sample):\n",
        "    print(type(sample))\n",
        "    image, label = sample\n",
        "\n",
        "    # opencv image: H x W x C\n",
        "    # torch image: C x H x W\n",
        "    image = torch.from_numpy(image).permute(2, 0, 1).float()\n",
        "    label = torch.from_numpy(label)\n",
        "    return (image, label)"
      ],
      "metadata": {
        "id": "w4z7AZo10Kgn"
      },
      "execution_count": null,
      "outputs": []
    },
    {
      "cell_type": "code",
      "source": [
        "transform = transforms.Compose([\n",
        "    # transforms.ToPILImage(),\n",
        "    transforms.ToTensor(),\n",
        "    transforms.Resize((384, 384))\n",
        "])\n",
        "\n",
        "###############\n",
        "# Data MNIST\n",
        "###############\n",
        "# train_dataset = datasets.MNIST(root='/content',train=True, transform=transform, download=True)\n",
        "# val_dataset = datasets.MNIST(root='/content', train=False, transform=transform)\n",
        "\n",
        "###############\n",
        "# Data Dog-cat\n",
        "###############\n",
        "\n",
        "lst_imgs = glob(f\"/content/small_dog_cat_dataset/train/**/*.jpg\")\n",
        "lst_img_test = glob(f\"/content/small_dog_cat_dataset/test/**/*.jpg\")\n",
        "train_df = pd.DataFrame(lst_imgs)\n",
        "train_df.columns = ['img_path']\n",
        "\n",
        "test_df = pd.DataFrame(lst_img_test)\n",
        "test_df.columns = ['img_path']\n",
        "# train_df, val_df = train_test_split(df,test_size = 0.2, random_state=42)\n",
        "\n",
        "train_dataset = MaskDataset(train_df, transform)\n",
        "val_dataset = MaskDataset(test_df, transform)"
      ],
      "metadata": {
        "id": "eZNupM6b00jj"
      },
      "execution_count": null,
      "outputs": []
    },
    {
      "cell_type": "code",
      "source": [
        "train_dataloader = DataLoader(dataset = train_dataset, batch_size = 16, shuffle = True)\n",
        "test_dataloader = DataLoader(dataset = val_dataset, batch_size = 16, shuffle = True)"
      ],
      "metadata": {
        "id": "nJAmAzEU2Eri"
      },
      "execution_count": null,
      "outputs": []
    },
    {
      "cell_type": "code",
      "source": [
        "class PatchEmbed(nn.Module):\n",
        "  def __init__(self, image_size, patch_size, in_channels=3, embed_dims=768):\n",
        "    super().__init__()\n",
        "    self.image_size = image_size\n",
        "\n",
        "    ###############\n",
        "    # Data Dog-cat\n",
        "    ###############\n",
        "    # self.patch_size = patch_size \n",
        "    # self.n_patches = (image_size // patch_size) ** 2\n",
        "\n",
        "    ###############\n",
        "    # Data MNIST\n",
        "    ###############\n",
        "    self.patch_size = (image_size//4, image_size//2)\n",
        "    self.n_patches = (image_size // self.patch_size[0])*((image_size // self.patch_size[1]))\n",
        "\n",
        "\n",
        "    # convolutional layer that does both the splitting into patches and their embedding \n",
        "    self.cv2D_layer = nn.Conv2d(in_channels, embed_dims, kernel_size=self.patch_size, stride=self.patch_size)\n",
        "  \n",
        "  def forward(self, x):\n",
        "    '''\n",
        "      input: X tensor - Shape: (n_samples, in_chans, image_size, image_size).\n",
        "      output: tensor - Shape: (n_samples, n_patches, embed_dim)\n",
        "    '''\n",
        "    x = self.cv2D_layer(x) # Shape: (n_samples, embed_dims, patch_size // 2, patch_size // 2)\n",
        "\n",
        "    # print('patch:',self.patch_size)\n",
        "    # print('patch:',x.shape)\n",
        "    x = x.flatten(2) # Shape: (n_samples, embed_dims, n_patches)\n",
        "    # print('patch:',x.shape)\n",
        "    x = x.transpose(1, 2) # Shape: (n_samples, n_patches, embed_dims)\n",
        "    # print('patch:',x.shape)\n",
        "\n",
        "    return x"
      ],
      "metadata": {
        "id": "snWUQq9g-pG1"
      },
      "execution_count": null,
      "outputs": []
    },
    {
      "cell_type": "code",
      "source": [
        "class Attention(nn.Module):\n",
        "  def __init__(self, dim, n_heads=12, qkv_bias=True, drop_attn_ratio=0., drop_ratio=0.):\n",
        "    super().__init__()\n",
        "    self.n_heads = n_heads \n",
        "    self.dim = dim\n",
        "    self.head_dim = dim // n_heads\n",
        "    self.scale = self.head_dim ** -0.5 \n",
        "    \n",
        "    self.qkv = nn.Linear(dim, dim*3, bias=qkv_bias)\n",
        "    self.attn_drop = nn.Dropout(drop_attn_ratio)\n",
        "    self.fc = nn.Linear(dim, dim)\n",
        "    self.fc_drop = nn.Dropout(drop_ratio)\n",
        "  \n",
        "  def forward(self, x):\n",
        "    '''\n",
        "      input: Shape: (n_samples, n_patches + 1, dim)\n",
        "      output: (n_samples, n_patches + 1, dim)\n",
        "    '''\n",
        "    n_samples, n_token, dim = x.shape \n",
        "    if dim != self.dim:\n",
        "      raise ValueError \n",
        "    \n",
        "    qkv = self.qkv(x) # shape: (n_samples, n_patches+1, dim*3)\n",
        "    qkv = qkv.reshape(n_samples, n_token, 3, self.n_heads, self.head_dim) # shape: (n_samples, n_patches + 1, 3, n_heads, head_dim)\n",
        "    qkv = qkv.permute(2, 0, 3, 1, 4) # shape (3, n_samples, n_heads, n_patches+1, head_dim)\n",
        "    q, k, v = qkv[0], qkv[1], qkv[2]\n",
        "    k_t = k.transpose(-2, -1)  # shape: (n_samples, n_heads, head_dim, n_patches + 1)\n",
        "    dot_product = (q @ k_t) * self.scale # shape: (n_samples, n_heads, n_patches + 1, n_patches + 1)\n",
        "    attn = dot_product.softmax(dim=-1)  # shape: (n_samples, n_heads, n_patches + 1, n_patches + 1)\n",
        "    attn = self.attn_drop(attn)\n",
        "    weighted_avg = attn @ v  # shape: (n_samples, n_heads, n_patches +1, head_dim)\n",
        "    weighted_avg = weighted_avg.transpose(1, 2)  # shape: (n_samples, n_patches + 1, n_heads, head_dim)\n",
        "    weighted_avg = weighted_avg.flatten(2)  # shape: (n_samples, n_patches + 1, dim)\n",
        "    x = self.fc(weighted_avg)\n",
        "    x = self.fc_drop(x) \n",
        "\n",
        "    return x "
      ],
      "metadata": {
        "id": "XOCJFpGG-sLk"
      },
      "execution_count": null,
      "outputs": []
    },
    {
      "cell_type": "code",
      "source": [
        "class MLP(nn.Module):\n",
        "  def __init__(self, in_features, hidden_features, out_features, drop_ratio=0.):\n",
        "    super().__init__()\n",
        "    self.fc1 = nn.Linear(in_features, hidden_features)\n",
        "    self.activation_func = nn.GELU()\n",
        "    self.fc2 = nn.Linear(hidden_features, out_features)\n",
        "    self.dropout = nn.Dropout(drop_ratio)\n",
        "  \n",
        "  def forward(self, x):\n",
        "    x = self.fc1(x)\n",
        "    x = self.activation_func(x)\n",
        "    x = self.dropout(x)\n",
        "    x = self.fc2(x)\n",
        "    x = self.dropout(x)\n",
        "\n",
        "    return x "
      ],
      "metadata": {
        "id": "zvnEIIU-BHTS"
      },
      "execution_count": null,
      "outputs": []
    },
    {
      "cell_type": "code",
      "source": [
        "class TransformerBlock(nn.Module):\n",
        "  def __init__(self, dim, n_heads, mlp_ratio=4.0, qkv_bias=True, dropout_attn_ratio=0., dropout_ratio=0.):\n",
        "    super().__init__()\n",
        "    self.norm1 = nn.LayerNorm(dim, eps=1e-6)\n",
        "    self.attn = Attention(dim, n_heads=n_heads, qkv_bias=qkv_bias, drop_attn_ratio=dropout_attn_ratio, drop_ratio=dropout_ratio)\n",
        "    self.norm2 = nn.LayerNorm(dim, eps=1e-6)\n",
        "    hidden_features = int(dim * mlp_ratio)\n",
        "    self.mlp = MLP(in_features=dim, hidden_features=hidden_features, out_features=dim)\n",
        "  \n",
        "  def forward(self, x):\n",
        "    x = x + self.attn(self.norm1(x))\n",
        "    x = x + self.mlp(self.norm2(x))\n",
        "\n",
        "    return x"
      ],
      "metadata": {
        "id": "OVDprCXMBI87"
      },
      "execution_count": null,
      "outputs": []
    },
    {
      "cell_type": "code",
      "source": [
        "class VisionTransformer(nn.Module):\n",
        "  def __init__(self, n_classes=2, image_size=384, patch_size=16, in_channels=3, embed_dims=768, depth=12, \\\n",
        "               n_heads=12, mlp_ratio=4., qkv_bias=True, dropout_attn_ratio=0., dropout_ratio=0.):\n",
        "    super().__init__()\n",
        "    self.patch_embed = PatchEmbed(image_size=image_size, patch_size=patch_size, in_channels=in_channels, embed_dims=embed_dims)\n",
        "    self.cls_token = nn.Parameter(torch.zeros(1, 1, embed_dims))\n",
        "    self.pos_embed = nn.Parameter(torch.zeros(1,1+self.patch_embed.n_patches, embed_dims))\n",
        "    self.pos_drop = nn.Dropout(dropout_ratio)\n",
        "    self.blocks = nn.ModuleList(\n",
        "      [\n",
        "          TransformerBlock(\n",
        "            dim = embed_dims,\n",
        "            n_heads = n_heads,\n",
        "            mlp_ratio = mlp_ratio,\n",
        "            qkv_bias = qkv_bias,\n",
        "            dropout_attn_ratio = dropout_attn_ratio, \n",
        "            dropout_ratio = dropout_ratio\n",
        "          )\n",
        "          for _ in range(depth)\n",
        "      ]\n",
        "    )\n",
        "    self.norm = nn.LayerNorm(embed_dims, eps=1e-6)\n",
        "    self.head = nn.Linear(embed_dims, n_classes)\n",
        "  \n",
        "  def forward(self, x):\n",
        "    n_samples = x.shape[0]\n",
        "    # print(x.shape)\n",
        "    x = self.patch_embed(x)\n",
        "    # print(x.shape)\n",
        "    # print(self.pos_embed.shape)\n",
        "    cls_token = self.cls_token.expand(n_samples, -1, -1)\n",
        "    x = torch.cat((cls_token, x), dim=1)  # (n_samples, 1 + n_patches, embed_dims)\n",
        "    x = x + self.pos_embed  \n",
        "    x = self.pos_drop(x)\n",
        "    for block in self.blocks:\n",
        "      x = block(x)\n",
        "    x = self.norm(x)\n",
        "    cls_token_final = x[:, 0] \n",
        "    x = self.head(cls_token_final)\n",
        "\n",
        "    return x \n"
      ],
      "metadata": {
        "id": "fUKzpmHbBL81"
      },
      "execution_count": null,
      "outputs": []
    },
    {
      "cell_type": "code",
      "source": [
        "model = VisionTransformer(10, in_channels=1).to(device)"
      ],
      "metadata": {
        "id": "IfFO55jUBdT5"
      },
      "execution_count": null,
      "outputs": []
    },
    {
      "cell_type": "code",
      "source": [
        "optimizer = torch.optim.SGD(model.parameters(), lr=3e-4)\n",
        "loss_function = nn.CrossEntropyLoss()"
      ],
      "metadata": {
        "id": "JCoxcSP2Bs24"
      },
      "execution_count": null,
      "outputs": []
    },
    {
      "cell_type": "markdown",
      "source": [
        "## TRAIN"
      ],
      "metadata": {
        "id": "BjlwQdOvBwIR"
      }
    },
    {
      "cell_type": "code",
      "source": [
        "from tqdm import tqdm\n",
        "'''\n",
        "    Function for computing the accuracy of the predictions over the entire data_loader\n",
        "'''\n",
        "def get_accuracy(model, data_loader, device):\n",
        "    correct = 0\n",
        "    total = 0\n",
        "    \n",
        "    with torch.no_grad():\n",
        "        model.eval()\n",
        "        for images, labels in data_loader:\n",
        "            images = images.to(device)\n",
        "            labels = labels.to(device)\n",
        "\n",
        "            outputs = model(images)\n",
        "            _, predicted = torch.max(outputs.data, 1)\n",
        "\n",
        "            total += labels.size(0)\n",
        "            correct += (predicted == labels).sum().item()\n",
        "\n",
        "    return 100*(correct/total)\n",
        "\n",
        "'''\n",
        "    Function for plotting training and validation losses\n",
        "'''\n",
        "def plot_losses(train_acc, valid_acc):\n",
        "    # change the style of the plots to seaborn\n",
        "    plt.style.use('seaborn')\n",
        "\n",
        "    train_acc = np.array(train_acc)\n",
        "    valid_acc = np.array(valid_acc)\n",
        "\n",
        "    fig, ax = plt.subplots(figsize=(8, 4.5))\n",
        "\n",
        "    ax.plot(train_acc, color=\"blue\", label=\"Train_acc\")\n",
        "    ax.plot(valid_acc, color=\"red\", label=\"Validation_acc\")\n",
        "    ax.set(title=\"Acc over epochs\",\n",
        "            xlabel=\"Epoch\",\n",
        "            ylabel=\"Acc\")\n",
        "    ax.legend()\n",
        "    fig.show()\n",
        "\n",
        "  # change the plot style to default\n",
        "    plt.style.use('default')\n",
        "\n",
        "'''\n",
        "    function for the training step of the training loop\n",
        "'''\n",
        "def train(train_loader, model, criterion, optimizer, device):\n",
        "    model.train()\n",
        "    running_loss = 0\n",
        "\n",
        "    for images, labels in train_loader:\n",
        "        images = images.to(device)\n",
        "        labels = labels.to(device)\n",
        "\n",
        "        # forward pass\n",
        "        outputs = model(images)\n",
        "        print(outputs)\n",
        "        cv2.imwrite('/content', images[0].detach().cpu().numpy())\n",
        "        a\n",
        "        loss = criterion(outputs, labels)\n",
        "        running_loss += loss.item()\n",
        "\n",
        "        # backward and optimizer\n",
        "        optimizer.zero_grad()\n",
        "        loss.backward()\n",
        "        optimizer.step()\n",
        "\n",
        "    epoch_loss = running_loss / len(train_loader)\n",
        "\n",
        "    return model, optimizer, epoch_loss \n",
        "\n",
        "'''\n",
        "    function for the validation step of the training loop\n",
        "'''\n",
        "def validate(valid_loader, model, criterion, device):\n",
        "    model.eval()\n",
        "    running_loss = 0\n",
        "\n",
        "    for images, labels in valid_loader:\n",
        "        images = images.to(device)\n",
        "        labels = labels.to(device)\n",
        "\n",
        "        # forward pass and record loss\n",
        "        outputs = model(images)\n",
        "        loss = criterion(outputs, labels)\n",
        "        running_loss += loss.item()\n",
        "    \n",
        "    epoch_loss = running_loss / len(valid_loader)\n",
        "\n",
        "    return model, epoch_loss\n",
        "\n",
        "'''\n",
        "    function defining the entire training loop\n",
        "'''\n",
        "def training_loop(model, criterion, optimizer, train_loader, valid_loader, epochs, device, print_every=1):\n",
        "    # set object for storing metrics\n",
        "    best_loss = 1e10\n",
        "    train_losses = []\n",
        "    valid_losses = []\n",
        "    list_train_acc = []\n",
        "    list_val_acc = []\n",
        "\n",
        "    valid_loss_min = np.Inf\n",
        "    # train model\n",
        "    for epoch in tqdm(range(0, epochs)):\n",
        "        # training\n",
        "        model, optimizer, train_loss = train(train_loader, model, criterion, optimizer, device)\n",
        "\n",
        "        # validation\n",
        "        with torch.no_grad():\n",
        "            model, valid_loss = validate(valid_loader, model, criterion, device)\n",
        "\n",
        "        if epoch % print_every == print_every - 1:\n",
        "            train_acc = get_accuracy(model, train_loader, device=device)\n",
        "            valid_acc = get_accuracy(model, valid_loader, device=device)\n",
        "\n",
        "\n",
        "            print('Epochs: {}, Train_loss: {}, Valid_loss: {}, Train_accuracy: {}, Valid_accuracy: {}'.format(\n",
        "                    epoch, train_loss, valid_loss, train_acc, valid_acc\n",
        "                    ))\n",
        "\n",
        "            list_train_acc.append(train_acc)\n",
        "            list_val_acc.append(valid_acc)\n",
        "            train_losses.append(train_loss)\n",
        "            valid_losses.append(valid_loss)\n",
        "\n",
        "        if valid_loss < valid_loss_min:\n",
        "            torch.save(model, 'model.pt')\n",
        "            print('Validation loss decreased ({:.6f} --> {:.6f}).  Saving model ...'.format(\n",
        "            valid_loss_min,\n",
        "            valid_loss))\n",
        "            valid_loss_min = valid_loss\n",
        "\n",
        "    plot_losses(list_train_acc, list_val_acc)\n",
        "\n",
        "    return model, optimizer, (train_losses, valid_losses)"
      ],
      "metadata": {
        "id": "y0vVaP2xBw0M"
      },
      "execution_count": null,
      "outputs": []
    },
    {
      "cell_type": "code",
      "source": [
        "import warnings\n",
        "warnings.filterwarnings('ignore')\n",
        "model, optimizer, _ = training_loop(model, loss_function, optimizer, train_dataloader, test_dataloader, 5, device)\n"
      ],
      "metadata": {
        "colab": {
          "base_uri": "https://localhost:8080/",
          "height": 644
        },
        "id": "b5ZumvQACQQj",
        "outputId": "e2c5dc65-d9cb-43b1-dc9a-5f8ed529e82e"
      },
      "execution_count": null,
      "outputs": [
        {
          "output_type": "stream",
          "name": "stderr",
          "text": [
            "\r  0%|          | 0/5 [00:00<?, ?it/s]"
          ]
        },
        {
          "output_type": "stream",
          "name": "stdout",
          "text": [
            "Epochs: 0, Train_loss: 0.4017956803609927, Valid_loss: 0.1936138623058796, Train_accuracy: 94.61, Valid_accuracy: 94.36\n"
          ]
        },
        {
          "output_type": "stream",
          "name": "stderr",
          "text": [
            "\r 20%|██        | 1/5 [06:38<26:35, 398.78s/it]"
          ]
        },
        {
          "output_type": "stream",
          "name": "stdout",
          "text": [
            "Validation loss decreased (inf --> 0.193614).  Saving model ...\n",
            "Epochs: 1, Train_loss: 0.17493759001034, Valid_loss: 0.1876877199560404, Train_accuracy: 94.99166666666666, Valid_accuracy: 94.24\n"
          ]
        },
        {
          "output_type": "stream",
          "name": "stderr",
          "text": [
            "\r 40%|████      | 2/5 [13:19<19:59, 399.78s/it]"
          ]
        },
        {
          "output_type": "stream",
          "name": "stdout",
          "text": [
            "Validation loss decreased (0.193614 --> 0.187688).  Saving model ...\n",
            "Epochs: 2, Train_loss: 0.12991909601558, Valid_loss: 0.1287177153892815, Train_accuracy: 96.765, Valid_accuracy: 96.00999999999999\n"
          ]
        },
        {
          "output_type": "stream",
          "name": "stderr",
          "text": [
            "\r 60%|██████    | 3/5 [19:58<13:18, 399.49s/it]"
          ]
        },
        {
          "output_type": "stream",
          "name": "stdout",
          "text": [
            "Validation loss decreased (0.187688 --> 0.128718).  Saving model ...\n",
            "Epochs: 3, Train_loss: 0.10293125080820173, Valid_loss: 0.10895835685916246, Train_accuracy: 97.74000000000001, Valid_accuracy: 96.57\n"
          ]
        },
        {
          "output_type": "stream",
          "name": "stderr",
          "text": [
            "\r 80%|████████  | 4/5 [26:37<06:39, 399.19s/it]"
          ]
        },
        {
          "output_type": "stream",
          "name": "stdout",
          "text": [
            "Validation loss decreased (0.128718 --> 0.108958).  Saving model ...\n"
          ]
        },
        {
          "output_type": "stream",
          "name": "stderr",
          "text": [
            "100%|██████████| 5/5 [33:12<00:00, 398.42s/it]"
          ]
        },
        {
          "output_type": "stream",
          "name": "stdout",
          "text": [
            "Epochs: 4, Train_loss: 0.08502172368808339, Valid_loss: 0.11166305014491082, Train_accuracy: 97.72833333333332, Valid_accuracy: 96.47\n"
          ]
        },
        {
          "output_type": "stream",
          "name": "stderr",
          "text": [
            "\n"
          ]
        },
        {
          "output_type": "display_data",
          "data": {
            "text/plain": [
              "<Figure size 800x450 with 1 Axes>"
            ],
            "image/png": "[encoded data removed]"
          },
          "metadata": {}
        }
      ]
    },
    {
      "cell_type": "code",
      "source": [
        "import warnings\n",
        "warnings.filterwarnings('ignore')\n",
        "model, optimizer, _ = training_loop(model, loss_function, optimizer, train_dataloader, test_dataloader, 5, device)"
      ],
      "metadata": {
        "colab": {
          "base_uri": "https://localhost:8080/",
          "height": 609
        },
        "id": "R8poqA6vCLw-",
        "outputId": "3f25faec-a1b7-4923-f1c7-4abff88e07e2"
      },
      "execution_count": null,
      "outputs": [
        {
          "output_type": "stream",
          "name": "stderr",
          "text": [
            "\r  0%|          | 0/5 [00:00<?, ?it/s]"
          ]
        },
        {
          "output_type": "stream",
          "name": "stdout",
          "text": [
            "Epochs: 0, Train_loss: 0.724820686340332, Valid_loss: 0.7204096144751498, Train_accuracy: 50.1, Valid_accuracy: 50.33333333333333\n"
          ]
        },
        {
          "output_type": "stream",
          "name": "stderr",
          "text": [
            "\r 20%|██        | 1/5 [06:17<25:08, 377.06s/it]"
          ]
        },
        {
          "output_type": "stream",
          "name": "stdout",
          "text": [
            "Validation loss decreased (inf --> 0.720410).  Saving model ...\n",
            "Epochs: 1, Train_loss: 0.7071200842857361, Valid_loss: 0.6800979877773085, Train_accuracy: 55.900000000000006, Valid_accuracy: 56.00000000000001\n"
          ]
        },
        {
          "output_type": "stream",
          "name": "stderr",
          "text": [
            "\r 40%|████      | 2/5 [12:25<18:36, 372.16s/it]"
          ]
        },
        {
          "output_type": "stream",
          "name": "stdout",
          "text": [
            "Validation loss decreased (0.720410 --> 0.680098).  Saving model ...\n"
          ]
        },
        {
          "output_type": "stream",
          "name": "stderr",
          "text": [
            "\r 60%|██████    | 3/5 [18:33<12:20, 370.32s/it]"
          ]
        },
        {
          "output_type": "stream",
          "name": "stdout",
          "text": [
            "Epochs: 2, Train_loss: 0.6980442271232605, Valid_loss: 0.7339019885188655, Train_accuracy: 50.55, Valid_accuracy: 50.66666666666667\n"
          ]
        },
        {
          "output_type": "stream",
          "name": "stderr",
          "text": [
            "\r 80%|████████  | 4/5 [24:42<06:09, 369.54s/it]"
          ]
        },
        {
          "output_type": "stream",
          "name": "stdout",
          "text": [
            "Epochs: 3, Train_loss: 0.6973594055175781, Valid_loss: 0.6805475730645029, Train_accuracy: 55.85, Valid_accuracy: 57.333333333333336\n"
          ]
        },
        {
          "output_type": "stream",
          "name": "stderr",
          "text": [
            "100%|██████████| 5/5 [30:50<00:00, 370.01s/it]"
          ]
        },
        {
          "output_type": "stream",
          "name": "stdout",
          "text": [
            "Epochs: 4, Train_loss: 0.7004751458168029, Valid_loss: 0.6901793809313523, Train_accuracy: 53.449999999999996, Valid_accuracy: 53.333333333333336\n"
          ]
        },
        {
          "output_type": "stream",
          "name": "stderr",
          "text": [
            "\n"
          ]
        },
        {
          "output_type": "display_data",
          "data": {
            "text/plain": [
              "<Figure size 800x450 with 1 Axes>"
            ],
            "image/png": "[encoded data removed]"
          },
          "metadata": {}
        }
      ]
    },
    {
      "cell_type": "code",
      "source": [],
      "metadata": {
        "id": "m033rXVhbY1d"
      },
      "execution_count": null,
      "outputs": []
    },
    {
      "cell_type": "code",
      "source": [],
      "metadata": {
        "id": "WneuR7aDbYy8"
      },
      "execution_count": null,
      "outputs": []
    },
    {
      "cell_type": "code",
      "source": [],
      "metadata": {
        "id": "kOnE6loJbYwe"
      },
      "execution_count": null,
      "outputs": []
    },
    {
      "cell_type": "code",
      "source": [
        "!pip install timm"
      ],
      "metadata": {
        "colab": {
          "base_uri": "https://localhost:8080/"
        },
        "id": "9nRJmRp2bX5O",
        "outputId": "ed12e226-ee23-4aca-ae80-64f6ca28229b"
      },
      "execution_count": null,
      "outputs": [
        {
          "output_type": "stream",
          "name": "stdout",
          "text": [
            "Looking in indexes: https://pypi.org/simple, https://us-python.pkg.dev/colab-wheels/public/simple/\n",
            "Collecting timm\n",
            "  Downloading timm-0.6.13-py3-none-any.whl (549 kB)\n",
            "\u001b[2K     \u001b[90m━━━━━━━━━━━━━━━━━━━━━━━━━━━━━━━━━━━━━━\u001b[0m \u001b[32m549.1/549.1 KB\u001b[0m \u001b[31m10.4 MB/s\u001b[0m eta \u001b[36m0:00:00\u001b[0m\n",
            "\u001b[?25hRequirement already satisfied: torchvision in /usr/local/lib/python3.9/dist-packages (from timm) (0.15.1+cu118)\n",
            "Requirement already satisfied: torch>=1.7 in /usr/local/lib/python3.9/dist-packages (from timm) (2.0.0+cu118)\n",
            "Collecting huggingface-hub\n",
            "  Downloading huggingface_hub-0.13.4-py3-none-any.whl (200 kB)\n",
            "\u001b[2K     \u001b[90m━━━━━━━━━━━━━━━━━━━━━━━━━━━━━━━━━━━━━━\u001b[0m \u001b[32m200.1/200.1 KB\u001b[0m \u001b[31m27.4 MB/s\u001b[0m eta \u001b[36m0:00:00\u001b[0m\n",
            "\u001b[?25hRequirement already satisfied: pyyaml in /usr/local/lib/python3.9/dist-packages (from timm) (6.0)\n",
            "Requirement already satisfied: networkx in /usr/local/lib/python3.9/dist-packages (from torch>=1.7->timm) (3.0)\n",
            "Requirement already satisfied: triton==2.0.0 in /usr/local/lib/python3.9/dist-packages (from torch>=1.7->timm) (2.0.0)\n",
            "Requirement already satisfied: jinja2 in /usr/local/lib/python3.9/dist-packages (from torch>=1.7->timm) (3.1.2)\n",
            "Requirement already satisfied: filelock in /usr/local/lib/python3.9/dist-packages (from torch>=1.7->timm) (3.10.7)\n",
            "Requirement already satisfied: typing-extensions in /usr/local/lib/python3.9/dist-packages (from torch>=1.7->timm) (4.5.0)\n",
            "Requirement already satisfied: sympy in /usr/local/lib/python3.9/dist-packages (from torch>=1.7->timm) (1.11.1)\n",
            "Requirement already satisfied: lit in /usr/local/lib/python3.9/dist-packages (from triton==2.0.0->torch>=1.7->timm) (16.0.0)\n",
            "Requirement already satisfied: cmake in /usr/local/lib/python3.9/dist-packages (from triton==2.0.0->torch>=1.7->timm) (3.25.2)\n",
            "Requirement already satisfied: tqdm>=4.42.1 in /usr/local/lib/python3.9/dist-packages (from huggingface-hub->timm) (4.65.0)\n",
            "Requirement already satisfied: requests in /usr/local/lib/python3.9/dist-packages (from huggingface-hub->timm) (2.27.1)\n",
            "Requirement already satisfied: packaging>=20.9 in /usr/local/lib/python3.9/dist-packages (from huggingface-hub->timm) (23.0)\n",
            "Requirement already satisfied: pillow!=8.3.*,>=5.3.0 in /usr/local/lib/python3.9/dist-packages (from torchvision->timm) (8.4.0)\n",
            "Requirement already satisfied: numpy in /usr/local/lib/python3.9/dist-packages (from torchvision->timm) (1.22.4)\n",
            "Requirement already satisfied: MarkupSafe>=2.0 in /usr/local/lib/python3.9/dist-packages (from jinja2->torch>=1.7->timm) (2.1.2)\n",
            "Requirement already satisfied: urllib3<1.27,>=1.21.1 in /usr/local/lib/python3.9/dist-packages (from requests->huggingface-hub->timm) (1.26.15)\n",
            "Requirement already satisfied: charset-normalizer~=2.0.0 in /usr/local/lib/python3.9/dist-packages (from requests->huggingface-hub->timm) (2.0.12)\n",
            "Requirement already satisfied: certifi>=2017.4.17 in /usr/local/lib/python3.9/dist-packages (from requests->huggingface-hub->timm) (2022.12.7)\n",
            "Requirement already satisfied: idna<4,>=2.5 in /usr/local/lib/python3.9/dist-packages (from requests->huggingface-hub->timm) (3.4)\n",
            "Requirement already satisfied: mpmath>=0.19 in /usr/local/lib/python3.9/dist-packages (from sympy->torch>=1.7->timm) (1.3.0)\n",
            "Installing collected packages: huggingface-hub, timm\n",
            "Successfully installed huggingface-hub-0.13.4 timm-0.6.13\n"
          ]
        }
      ]
    },
    {
      "cell_type": "code",
      "source": [
        "import timm"
      ],
      "metadata": {
        "id": "lNwCBMETbaR0"
      },
      "execution_count": null,
      "outputs": []
    },
    {
      "cell_type": "code",
      "source": [
        "model = timm.create_model(model_name = 'resnet50',pretrained=True)\n",
        "model = model.to(device)"
      ],
      "metadata": {
        "id": "UAIcRiP2bp9o"
      },
      "execution_count": null,
      "outputs": []
    },
    {
      "cell_type": "code",
      "source": [
        "import warnings\n",
        "warnings.filterwarnings('ignore')\n",
        "def validate(valid_loader, model):\n",
        "    model.eval()\n",
        "    running_loss = 0\n",
        "\n",
        "    for img_path,images, labels in valid_loader:\n",
        "        images = images.to(device)\n",
        "\n",
        "        # forward pass and record loss\n",
        "        print(images.shape)\n",
        "        print(img_path)\n",
        "        outputs = model(images)\n",
        "        print(torch.argmax(outputs, axis = 1))\n",
        "        a\n",
        "        \n",
        "    \n",
        "\n",
        "\n",
        "validate(test_dataloader, model)\n",
        "del model"
      ],
      "metadata": {
        "colab": {
          "base_uri": "https://localhost:8080/",
          "height": 428
        },
        "id": "dVD8lnNodI5k",
        "outputId": "9f8fc23d-dda3-4ca4-f7b8-2c15a193be97"
      },
      "execution_count": null,
      "outputs": [
        {
          "output_type": "stream",
          "name": "stdout",
          "text": [
            "torch.Size([16, 3, 384, 384])\n",
            "('/content/small_dog_cat_dataset/test/dogs/dog.1287.jpg', '/content/small_dog_cat_dataset/test/dogs/dog.10813.jpg', '/content/small_dog_cat_dataset/test/dogs/dog.1547.jpg', '/content/small_dog_cat_dataset/test/dogs/dog.2139.jpg', '/content/small_dog_cat_dataset/test/cats/cat.4888.jpg', '/content/small_dog_cat_dataset/test/dogs/dog.1965.jpg', '/content/small_dog_cat_dataset/test/cats/cat.392.jpg', '/content/small_dog_cat_dataset/test/cats/cat.6535.jpg', '/content/small_dog_cat_dataset/test/cats/cat.2628.jpg', '/content/small_dog_cat_dataset/test/dogs/dog.699.jpg', '/content/small_dog_cat_dataset/test/dogs/dog.8208.jpg', '/content/small_dog_cat_dataset/test/cats/cat.6466.jpg', '/content/small_dog_cat_dataset/test/cats/cat.5565.jpg', '/content/small_dog_cat_dataset/test/dogs/dog.10473.jpg', '/content/small_dog_cat_dataset/test/cats/cat.5688.jpg', '/content/small_dog_cat_dataset/test/dogs/dog.3787.jpg')\n",
            "tensor([743, 208, 223, 210, 285, 232, 285, 282, 749, 210, 209, 332, 283, 209,\n",
            "        285, 243], device='cuda:0')\n"
          ]
        },
        {
          "output_type": "error",
          "ename": "NameError",
          "evalue": "ignored",
          "traceback": [
            "\u001b[0;31m---------------------------------------------------------------------------\u001b[0m",
            "\u001b[0;31mNameError\u001b[0m                                 Traceback (most recent call last)",
            "\u001b[0;32m<ipython-input-15-4a370f69b854>\u001b[0m in \u001b[0;36m<cell line: 20>\u001b[0;34m()\u001b[0m\n\u001b[1;32m     18\u001b[0m \u001b[0;34m\u001b[0m\u001b[0m\n\u001b[1;32m     19\u001b[0m \u001b[0;34m\u001b[0m\u001b[0m\n\u001b[0;32m---> 20\u001b[0;31m \u001b[0mvalidate\u001b[0m\u001b[0;34m(\u001b[0m\u001b[0mtest_dataloader\u001b[0m\u001b[0;34m,\u001b[0m \u001b[0mmodel\u001b[0m\u001b[0;34m)\u001b[0m\u001b[0;34m\u001b[0m\u001b[0;34m\u001b[0m\u001b[0m\n\u001b[0m\u001b[1;32m     21\u001b[0m \u001b[0;32mdel\u001b[0m \u001b[0mmodel\u001b[0m\u001b[0;34m\u001b[0m\u001b[0;34m\u001b[0m\u001b[0m\n",
            "\u001b[0;32m<ipython-input-15-4a370f69b854>\u001b[0m in \u001b[0;36mvalidate\u001b[0;34m(valid_loader, model)\u001b[0m\n\u001b[1;32m     13\u001b[0m         \u001b[0moutputs\u001b[0m \u001b[0;34m=\u001b[0m \u001b[0mmodel\u001b[0m\u001b[0;34m(\u001b[0m\u001b[0mimages\u001b[0m\u001b[0;34m)\u001b[0m\u001b[0;34m\u001b[0m\u001b[0;34m\u001b[0m\u001b[0m\n\u001b[1;32m     14\u001b[0m         \u001b[0mprint\u001b[0m\u001b[0;34m(\u001b[0m\u001b[0mtorch\u001b[0m\u001b[0;34m.\u001b[0m\u001b[0margmax\u001b[0m\u001b[0;34m(\u001b[0m\u001b[0moutputs\u001b[0m\u001b[0;34m,\u001b[0m \u001b[0maxis\u001b[0m \u001b[0;34m=\u001b[0m \u001b[0;36m1\u001b[0m\u001b[0;34m)\u001b[0m\u001b[0;34m)\u001b[0m\u001b[0;34m\u001b[0m\u001b[0;34m\u001b[0m\u001b[0m\n\u001b[0;32m---> 15\u001b[0;31m         \u001b[0ma\u001b[0m\u001b[0;34m\u001b[0m\u001b[0;34m\u001b[0m\u001b[0m\n\u001b[0m\u001b[1;32m     16\u001b[0m \u001b[0;34m\u001b[0m\u001b[0m\n\u001b[1;32m     17\u001b[0m \u001b[0;34m\u001b[0m\u001b[0m\n",
            "\u001b[0;31mNameError\u001b[0m: name 'a' is not defined"
          ]
        }
      ]
    },
    {
      "cell_type": "code",
      "source": [
        "timm.list_models(\"res*\")"
      ],
      "metadata": {
        "colab": {
          "base_uri": "https://localhost:8080/"
        },
        "id": "LH-gG4UQbgfY",
        "outputId": "b6482b06-13f2-4cae-8810-6b21a8a7f425"
      },
      "execution_count": null,
      "outputs": [
        {
          "output_type": "execute_result",
          "data": {
            "text/plain": [
              "['res2net50_14w_8s',\n",
              " 'res2net50_26w_4s',\n",
              " 'res2net50_26w_6s',\n",
              " 'res2net50_26w_8s',\n",
              " 'res2net50_48w_2s',\n",
              " 'res2net101_26w_4s',\n",
              " 'res2next50',\n",
              " 'resmlp_12_224',\n",
              " 'resmlp_12_224_dino',\n",
              " 'resmlp_12_distilled_224',\n",
              " 'resmlp_24_224',\n",
              " 'resmlp_24_224_dino',\n",
              " 'resmlp_24_distilled_224',\n",
              " 'resmlp_36_224',\n",
              " 'resmlp_36_distilled_224',\n",
              " 'resmlp_big_24_224',\n",
              " 'resmlp_big_24_224_in22ft1k',\n",
              " 'resmlp_big_24_distilled_224',\n",
              " 'resnest14d',\n",
              " 'resnest26d',\n",
              " 'resnest50d',\n",
              " 'resnest50d_1s4x24d',\n",
              " 'resnest50d_4s2x40d',\n",
              " 'resnest101e',\n",
              " 'resnest200e',\n",
              " 'resnest269e',\n",
              " 'resnet10t',\n",
              " 'resnet14t',\n",
              " 'resnet18',\n",
              " 'resnet18d',\n",
              " 'resnet26',\n",
              " 'resnet26d',\n",
              " 'resnet26t',\n",
              " 'resnet32ts',\n",
              " 'resnet33ts',\n",
              " 'resnet34',\n",
              " 'resnet34d',\n",
              " 'resnet50',\n",
              " 'resnet50_gn',\n",
              " 'resnet50d',\n",
              " 'resnet50t',\n",
              " 'resnet51q',\n",
              " 'resnet61q',\n",
              " 'resnet101',\n",
              " 'resnet101d',\n",
              " 'resnet152',\n",
              " 'resnet152d',\n",
              " 'resnet200',\n",
              " 'resnet200d',\n",
              " 'resnetaa50',\n",
              " 'resnetaa50d',\n",
              " 'resnetaa101d',\n",
              " 'resnetblur18',\n",
              " 'resnetblur50',\n",
              " 'resnetblur50d',\n",
              " 'resnetblur101d',\n",
              " 'resnetrs50',\n",
              " 'resnetrs101',\n",
              " 'resnetrs152',\n",
              " 'resnetrs200',\n",
              " 'resnetrs270',\n",
              " 'resnetrs350',\n",
              " 'resnetrs420',\n",
              " 'resnetv2_50',\n",
              " 'resnetv2_50d',\n",
              " 'resnetv2_50d_evob',\n",
              " 'resnetv2_50d_evos',\n",
              " 'resnetv2_50d_frn',\n",
              " 'resnetv2_50d_gn',\n",
              " 'resnetv2_50t',\n",
              " 'resnetv2_50x1_bit_distilled',\n",
              " 'resnetv2_50x1_bitm',\n",
              " 'resnetv2_50x1_bitm_in21k',\n",
              " 'resnetv2_50x3_bitm',\n",
              " 'resnetv2_50x3_bitm_in21k',\n",
              " 'resnetv2_101',\n",
              " 'resnetv2_101d',\n",
              " 'resnetv2_101x1_bitm',\n",
              " 'resnetv2_101x1_bitm_in21k',\n",
              " 'resnetv2_101x3_bitm',\n",
              " 'resnetv2_101x3_bitm_in21k',\n",
              " 'resnetv2_152',\n",
              " 'resnetv2_152d',\n",
              " 'resnetv2_152x2_bit_teacher',\n",
              " 'resnetv2_152x2_bit_teacher_384',\n",
              " 'resnetv2_152x2_bitm',\n",
              " 'resnetv2_152x2_bitm_in21k',\n",
              " 'resnetv2_152x4_bitm',\n",
              " 'resnetv2_152x4_bitm_in21k',\n",
              " 'resnext26ts',\n",
              " 'resnext50_32x4d',\n",
              " 'resnext50d_32x4d',\n",
              " 'resnext101_32x4d',\n",
              " 'resnext101_32x8d',\n",
              " 'resnext101_64x4d']"
            ]
          },
          "metadata": {},
          "execution_count": 7
        }
      ]
    }
  ]
}